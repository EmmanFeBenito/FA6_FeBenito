{
 "cells": [
  {
   "cell_type": "markdown",
   "id": "4ac5f391",
   "metadata": {},
   "source": [
    "### 1. Write a function named ack that evaluates the Ackermann function. Use your function to evaluate ack(2,4). What happens for larger values of m and n?"
   ]
  },
  {
   "cell_type": "code",
   "execution_count": 2,
   "id": "d7a38d76",
   "metadata": {},
   "outputs": [
    {
     "data": {
      "text/plain": [
       "11"
      ]
     },
     "execution_count": 2,
     "metadata": {},
     "output_type": "execute_result"
    }
   ],
   "source": [
    "def ack(m, n):\n",
    "    if (m == 0):\n",
    "        return n + 1\n",
    "    elif (m > 0 and n == 0):\n",
    "        return ack(m - 1, 1)\n",
    "    elif (m > 0 and n > 0):\n",
    "        return ack(m - 1, ack(m, n - 1))\n",
    "\n",
    "result = ack(2, 4)\n",
    "result"
   ]
  },
  {
   "cell_type": "markdown",
   "id": "d23e2dee",
   "metadata": {},
   "source": [
    "### The larger values of m and n cause the kernel to die as the number becomes too large"
   ]
  },
  {
   "cell_type": "code",
   "execution_count": null,
   "id": "ebd3afba",
   "metadata": {},
   "outputs": [],
   "source": [
    "def ack(m, n):\n",
    "    if (m == 0):\n",
    "        return n + 1\n",
    "    elif (n == 0):\n",
    "        return ack(m - 1, 1)\n",
    "    else:\n",
    "        return ack(m - 1, ack(m, n - 1))\n",
    "\n",
    "result = ack(4, 8)\n",
    "result"
   ]
  },
  {
   "cell_type": "markdown",
   "id": "63c9b024",
   "metadata": {},
   "source": [
    "### 2. A number, a is a power of b if it is divisible by b and a/b is a power of b. Write a function called is_power that takes parameters a and b and returns True if a is a power of b. Note: you will have to think about a base case. (Note: It should work with float.)"
   ]
  },
  {
   "cell_type": "code",
   "execution_count": 1,
   "id": "a78f948f",
   "metadata": {
    "scrolled": true
   },
   "outputs": [
    {
     "name": "stdout",
     "output_type": "stream",
     "text": [
      "Enter the value of a: 81\n",
      "Enter the value of b: 9.0\n",
      "Result: True\n"
     ]
    }
   ],
   "source": [
    "def is_power(a, b):\n",
    "    if (a == b):\n",
    "        return True\n",
    "    elif ((a % b == 0) and is_power(a / b, b)):\n",
    "        return True\n",
    "    else:\n",
    "        return False\n",
    "\n",
    "a = float(input(\"Enter the value of a: \"))\n",
    "b = float(input(\"Enter the value of b: \"))\n",
    "\n",
    "result = is_power(a, b)\n",
    "print(\"Result:\", result)"
   ]
  }
 ],
 "metadata": {
  "kernelspec": {
   "display_name": "Python 3 (ipykernel)",
   "language": "python",
   "name": "python3"
  },
  "language_info": {
   "codemirror_mode": {
    "name": "ipython",
    "version": 3
   },
   "file_extension": ".py",
   "mimetype": "text/x-python",
   "name": "python",
   "nbconvert_exporter": "python",
   "pygments_lexer": "ipython3",
   "version": "3.9.13"
  }
 },
 "nbformat": 4,
 "nbformat_minor": 5
}
